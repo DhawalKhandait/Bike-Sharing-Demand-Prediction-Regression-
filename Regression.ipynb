{
  "nbformat": 4,
  "nbformat_minor": 0,
  "metadata": {
    "colab": {
      "private_outputs": true,
      "provenance": [],
      "collapsed_sections": [
        "PBTbrJXOngz2",
        "GF8Ens_Soomf",
        "EyNgTHvd2WFk",
        "KH5McJBi2d8v",
        "iW_Lq9qf2h6X",
        "-Kee-DAl2viO",
        "gCX9965dhzqZ",
        "gIfDvo9L0UH2"
      ],
      "include_colab_link": true
    },
    "kernelspec": {
      "name": "python3",
      "display_name": "Python 3"
    },
    "language_info": {
      "name": "python"
    },
    "gpuClass": "standard"
  },
  "cells": [
    {
      "cell_type": "markdown",
      "metadata": {
        "id": "view-in-github",
        "colab_type": "text"
      },
      "source": [
        "<a href=\"https://colab.research.google.com/github/DhawalKhandait/Bike-Sharing-Demand-Prediction-Regression-/blob/main/Regression.ipynb\" target=\"_parent\"><img src=\"https://colab.research.google.com/assets/colab-badge.svg\" alt=\"Open In Colab\"/></a>"
      ]
    },
    {
      "cell_type": "markdown",
      "source": [
        "# **Project Name**    - **Seoul Bike Sharing Demand Prediction**\n",
        "\n"
      ],
      "metadata": {
        "id": "vncDsAP0Gaoa"
      }
    },
    {
      "cell_type": "markdown",
      "source": [
        "##### **Project Type**    - Regression\n",
        "##### **Contribution**    - Individual"
      ],
      "metadata": {
        "id": "beRrZCGUAJYm"
      }
    },
    {
      "cell_type": "markdown",
      "source": [
        "# **Project Summary -**"
      ],
      "metadata": {
        "id": "FJNUwmbgGyua"
      }
    },
    {
      "cell_type": "markdown",
      "source": [
        "#### **1. Data Exploration:**\n",
        "a. Data Wrangling\n",
        "\n",
        "#### **2. Exploratory Data Analysis:**\n",
        "\n",
        "**a. Univariate Analysis-**\n",
        "\n",
        "i. Dependent Variable\n",
        "\n",
        "ii. Numerical Variables\n",
        "\n",
        "**b. Bivariate Analysis-**\n",
        "\n",
        "i. Line plot numerical variables v/s rented bike count\n",
        "\n",
        "ii. Spread of numerical variables across hours\n",
        "\n",
        "iii. Categorical Variables v/s rented bike count\n",
        "\n",
        "iv. Spread of Rented Bike Count across categorical variables\n",
        "\n",
        "v. Numerical variable v/s rented bike count\n",
        "\n",
        "vi. Spread of numerical variable across months\n",
        "\n",
        "\n",
        "#### **3. Feature Selection -**\n",
        "\n",
        "#### **4. Supervise Machine learning algorithms and implementation :**\n",
        "\n",
        "a. Linear Regression\n",
        "\n",
        "b. Lasso Regression\n",
        " \n",
        "c. Ridge Regression\n",
        "\n",
        "d. Elastic Net Regression\n",
        "\n",
        "e. Gradient Descent Regression\n",
        "\n",
        "f. Random Forest Regression\n",
        "\n",
        "g. Gradient Boosting Regression\n",
        "\n",
        "h. XGBoost Regression\n",
        "\n",
        "\n",
        "#### **5. Model Explainability -**"
      ],
      "metadata": {
        "id": "F6v_1wHtG2nS"
      }
    },
    {
      "cell_type": "markdown",
      "source": [
        "# **GitHub Link -**"
      ],
      "metadata": {
        "id": "w6K7xa23Elo4"
      }
    },
    {
      "cell_type": "markdown",
      "source": [
        "Provide your GitHub Link here."
      ],
      "metadata": {
        "id": "h1o69JH3Eqqn"
      }
    },
    {
      "cell_type": "markdown",
      "source": [
        "# **Problem Statement**\n"
      ],
      "metadata": {
        "id": "yQaldy8SH6Dl"
      }
    },
    {
      "cell_type": "markdown",
      "source": [
        "**Currently Rental bikes are introduced in many urban cities for the enhancement of mobility comfort. It is important to make the rental bike available and accessible to the public at the right time as it lessens the waiting time. Eventually, providing the city with a stable supply of rental bikes becomes a major concern. The crucial part is the prediction of bike count required at each hour for the stable supply of rental bikes**"
      ],
      "metadata": {
        "id": "DpeJGUA3kjGy"
      }
    },
    {
      "cell_type": "markdown",
      "source": [
        "# **General Guidelines** : -  "
      ],
      "metadata": {
        "id": "mDgbUHAGgjLW"
      }
    },
    {
      "cell_type": "markdown",
      "source": [
        "1.   Well-structured, formatted, and commented code is required. \n",
        "2.   Exception Handling, Production Grade Code & Deployment Ready Code will be a plus. Those students will be awarded some additional credits. \n",
        "     \n",
        "     The additional credits will have advantages over other students during Star Student selection.\n",
        "       \n",
        "             [ Note: - Deployment Ready Code is defined as, the whole .ipynb notebook should be executable in one go\n",
        "                       without a single error logged. ]\n",
        "\n",
        "3.   Each and every logic should have proper comments.\n",
        "4. You may add as many number of charts you want. Make Sure for each and every chart the following format should be answered.\n",
        "        \n",
        "\n",
        "```\n",
        "# Chart visualization code\n",
        "```\n",
        "            \n",
        "\n",
        "*   Why did you pick the specific chart?\n",
        "*   What is/are the insight(s) found from the chart?\n",
        "* Will the gained insights help creating a positive business impact? \n",
        "Are there any insights that lead to negative growth? Justify with specific reason.\n",
        "\n",
        "5. You have to create at least 15 logical & meaningful charts having important insights.\n",
        "\n",
        "\n",
        "[ Hints : - Do the Vizualization in  a structured way while following \"UBM\" Rule. \n",
        "\n",
        "U - Univariate Analysis,\n",
        "\n",
        "B - Bivariate Analysis (Numerical - Categorical, Numerical - Numerical, Categorical - Categorical)\n",
        "\n",
        "M - Multivariate Analysis\n",
        " ]\n",
        "\n",
        "\n",
        "\n",
        "\n",
        "\n",
        "6. You may add more ml algorithms for model creation. Make sure for each and every algorithm, the following format should be answered.\n",
        "\n",
        "\n",
        "*   Explain the ML Model used and it's performance using Evaluation metric Score Chart.\n",
        "\n",
        "\n",
        "*   Cross- Validation & Hyperparameter Tuning\n",
        "\n",
        "*   Have you seen any improvement? Note down the improvement with updates Evaluation metric Score Chart.\n",
        "\n",
        "*   Explain each evaluation metric's indication towards business and the business impact pf the ML model used.\n",
        "\n",
        "\n",
        "\n",
        "\n",
        "\n",
        "\n",
        "\n",
        "\n",
        "\n",
        "\n",
        "\n",
        "\n",
        "\n",
        "\n",
        "\n",
        "\n",
        "\n",
        "\n"
      ],
      "metadata": {
        "id": "ZrxVaUj-hHfC"
      }
    },
    {
      "cell_type": "markdown",
      "source": [
        "# ***Let's Begin !***"
      ],
      "metadata": {
        "id": "O_i_v8NEhb9l"
      }
    },
    {
      "cell_type": "markdown",
      "source": [
        "## ***1. Know Your Data***"
      ],
      "metadata": {
        "id": "HhfV-JJviCcP"
      }
    },
    {
      "cell_type": "code",
      "source": [
        "from google.colab import drive\n",
        "drive.mount('/content/drive')"
      ],
      "metadata": {
        "id": "peS5n0Oci5pw"
      },
      "execution_count": null,
      "outputs": []
    },
    {
      "cell_type": "markdown",
      "source": [
        "### Import Libraries"
      ],
      "metadata": {
        "id": "Y3lxredqlCYt"
      }
    },
    {
      "cell_type": "code",
      "source": [
        "# Import Libraries\n",
        "import numpy as np\n",
        "import pandas as pd\n",
        "import matplotlib.pyplot as plt\n",
        "import seaborn as sns\n",
        "\n",
        "import datetime as dt\n",
        "from sklearn.model_selection import train_test_split\n",
        "from sklearn.model_selection import GridSearchCV\n",
        "from sklearn.metrics import mean_squared_error,mean_absolute_error, r2_score\n",
        "\n",
        "%matplotlib inline\n",
        "sns.set_style(\"whitegrid\",{'grid.linestyle':'--'})\n",
        "import warnings\n",
        "warnings.filterwarnings(\"ignore\")"
      ],
      "metadata": {
        "id": "M8Vqi-pPk-HR"
      },
      "execution_count": null,
      "outputs": []
    },
    {
      "cell_type": "markdown",
      "source": [
        "### Dataset Loading"
      ],
      "metadata": {
        "id": "3RnN4peoiCZX"
      }
    },
    {
      "cell_type": "code",
      "source": [
        "# Load Dataset\n",
        "bike_df=pd.read_csv(\"/content/drive/MyDrive/Regression/SeoulBikeData.csv\",encoding='unicode_escape')"
      ],
      "metadata": {
        "id": "4CkvbW_SlZ_R"
      },
      "execution_count": null,
      "outputs": []
    },
    {
      "cell_type": "markdown",
      "source": [
        "### Dataset First View"
      ],
      "metadata": {
        "id": "x71ZqKXriCWQ"
      }
    },
    {
      "cell_type": "code",
      "source": [
        "# Dataset First Look\n",
        "bike_df.head(5)"
      ],
      "metadata": {
        "id": "LWNFOSvLl09H"
      },
      "execution_count": null,
      "outputs": []
    },
    {
      "cell_type": "markdown",
      "source": [
        "### Dataset Rows & Columns count"
      ],
      "metadata": {
        "id": "7hBIi_osiCS2"
      }
    },
    {
      "cell_type": "code",
      "source": [
        "# Dataset Rows & Columns count\n",
        "\n",
        "# computing number of rows\n",
        "rows=len(bike_df.axes[0])\n",
        "\n",
        "# computing number of columns\n",
        "columns=len(bike_df.axes[1])\n",
        "\n",
        "print(\"NUmber of rows : \",rows)\n",
        "print(\"Number of columns : \",columns)"
      ],
      "metadata": {
        "id": "Kllu7SJgmLij"
      },
      "execution_count": null,
      "outputs": []
    },
    {
      "cell_type": "markdown",
      "source": [
        "### Dataset Information"
      ],
      "metadata": {
        "id": "JlHwYmJAmNHm"
      }
    },
    {
      "cell_type": "markdown",
      "source": [
        "This dataset contains the data of rented bike count in the city of seoul. It presents the count of bikes rented per hour and the weather conditions for the day. The data is of one year from December 2017 to November 2018."
      ],
      "metadata": {
        "id": "ZxDTevXLjVL6"
      }
    },
    {
      "cell_type": "markdown",
      "source": [
        "#### Duplicate Values"
      ],
      "metadata": {
        "id": "35m5QtbWiB9F"
      }
    },
    {
      "cell_type": "code",
      "source": [
        "# Dataset Duplicate Value Count\n",
        "bike_df.duplicated().sum()"
      ],
      "metadata": {
        "id": "1sLdpKYkmox0"
      },
      "execution_count": null,
      "outputs": []
    },
    {
      "cell_type": "markdown",
      "source": [
        "#### Missing Values/Null Values"
      ],
      "metadata": {
        "id": "PoPl-ycgm1ru"
      }
    },
    {
      "cell_type": "code",
      "source": [
        "# Missing Values/Null Values Count\n",
        "bike_df.isnull().sum()"
      ],
      "metadata": {
        "id": "GgHWkxvamxVg"
      },
      "execution_count": null,
      "outputs": []
    },
    {
      "cell_type": "markdown",
      "source": [
        "**Above we can see there are no missing values as well as no duplicate values in the dataset.**"
      ],
      "metadata": {
        "id": "Czv1D75yjmHP"
      }
    },
    {
      "cell_type": "markdown",
      "source": [
        "###**In the given dataset there are total 14 columns and most of them have 0 null values.**"
      ],
      "metadata": {
        "id": "x49WVhqzjqi1"
      }
    },
    {
      "cell_type": "markdown",
      "source": [
        "### What did you know about your dataset?"
      ],
      "metadata": {
        "id": "H0kj-8xxnORC"
      }
    },
    {
      "cell_type": "markdown",
      "source": [
        "In this Dataset, we have 8760 rows and 14 columns from which \"rented bike count\" is our target variable. There are numerical variables as well as categorical variables and one date variable which is stored as object so we will need to convert its dtype."
      ],
      "metadata": {
        "id": "gfoNAAC-nUe_"
      }
    },
    {
      "cell_type": "markdown",
      "source": [
        "## ***2. Understanding Your Variables***"
      ],
      "metadata": {
        "id": "nA9Y7ga8ng1Z"
      }
    },
    {
      "cell_type": "code",
      "source": [
        "# Dataset Columns\n",
        "bike_df.columns=map(str.lower, bike_df.columns)\n",
        "bike_df.columns"
      ],
      "metadata": {
        "id": "j7xfkqrt5Ag5"
      },
      "execution_count": null,
      "outputs": []
    },
    {
      "cell_type": "code",
      "source": [
        "# Dataset Describe\n",
        "bike_df.info()"
      ],
      "metadata": {
        "id": "DnOaZdaE5Q5t"
      },
      "execution_count": null,
      "outputs": []
    },
    {
      "cell_type": "markdown",
      "source": [
        "### Variables Description "
      ],
      "metadata": {
        "id": "PBTbrJXOngz2"
      }
    },
    {
      "cell_type": "markdown",
      "source": [
        "### <b> The dataset contains weather information (Temperature, Humidity, Windspeed, Visibility, Dewpoint, Solar radiation, Snowfall, Rainfall), the number of bikes rented per hour and date information.</b>\n",
        "\n",
        "\n",
        "### <b>Attribute Information: </b>\n",
        "\n",
        "* ### Date : year-month-day\n",
        "* ### Rented Bike count - Count of bikes rented at each hour\n",
        "* ### Hour - Hour of he day\n",
        "* ### Temperature-Temperature in Celsius\n",
        "* ### Humidity - %\n",
        "* ### Windspeed - m/s\n",
        "* ### Visibility - 10m\n",
        "* ### Dew point temperature - Celsius\n",
        "* ### Solar radiation - MJ/m2\n",
        "* ### Rainfall - mm\n",
        "* ### Snowfall - cm\n",
        "* ### Seasons - Winter, Spring, Summer, Autumn\n",
        "* ### Holiday - Holiday/No holiday\n",
        "* ### Functional Day - NoFunc(Non Functional Hours), Fun(Functional hours)"
      ],
      "metadata": {
        "id": "aJV4KIxSnxay"
      }
    },
    {
      "cell_type": "markdown",
      "source": [
        "## 3. ***Data Wrangling***"
      ],
      "metadata": {
        "id": "dauF4eBmngu3"
      }
    },
    {
      "cell_type": "markdown",
      "source": [
        "### Data Wrangling Code"
      ],
      "metadata": {
        "id": "bKJF3rekwFvQ"
      }
    },
    {
      "cell_type": "code",
      "source": [
        "# converting the dtype of date column\n",
        "def get_date(str_date):\n",
        "  date_obj= dt.datetime.strptime(str_date,'%d/%m/%Y')\n",
        "  date_obj = pd.to_datetime(date_obj.date(), format=\"%Y-%m-%d\")\n",
        "  return date_obj\n",
        "\n",
        "bike_df['date'] = bike_df['date'].apply(get_date)\n"
      ],
      "metadata": {
        "id": "xB7n4Yxkkoq0"
      },
      "execution_count": null,
      "outputs": []
    },
    {
      "cell_type": "code",
      "source": [
        "bike_df.info()"
      ],
      "metadata": {
        "id": "K-XlbQKlk_Re"
      },
      "execution_count": null,
      "outputs": []
    },
    {
      "cell_type": "code",
      "source": [
        "# extracting the day, month and day of the week \n",
        "\n",
        "bike_df['day'] = bike_df['date'].apply(lambda x : x.day)\n",
        "bike_df['month'] = bike_df['date'].apply(lambda x : x.month)\n",
        "bike_df['day_of_week'] = bike_df['date'].dt.day_name()\n",
        "\n",
        "bike_df = bike_df.drop(\"date\", axis=1)\n",
        "\n",
        "bike_df.head()"
      ],
      "metadata": {
        "id": "GuY_eF2ElE5D"
      },
      "execution_count": null,
      "outputs": []
    },
    {
      "cell_type": "markdown",
      "source": [
        "### Check Unique Values for each variable."
      ],
      "metadata": {
        "id": "-3TZlNSImawC"
      }
    },
    {
      "cell_type": "code",
      "source": [
        "# Check Unique Values for each variable.\n",
        "bike_df.nunique()"
      ],
      "metadata": {
        "id": "LdJ1Roz_menI"
      },
      "execution_count": null,
      "outputs": []
    },
    {
      "cell_type": "markdown",
      "source": [
        "## ***4. Data Vizualization, Storytelling & Experimenting with charts : Understand the relationships between variables***"
      ],
      "metadata": {
        "id": "GF8Ens_Soomf"
      }
    },
    {
      "cell_type": "markdown",
      "source": [
        "## **Univariate Analysis**\n",
        "\n",
        "### **Dependent Variable**\n",
        "\n",
        "First we will start with analyzing our target variable which is **rented bike count**."
      ],
      "metadata": {
        "id": "BB7J_m98Qm3K"
      }
    },
    {
      "cell_type": "markdown",
      "source": [
        "#### Chart - 1"
      ],
      "metadata": {
        "id": "0wOQAZs5pc--"
      }
    },
    {
      "cell_type": "code",
      "source": [
        "# Chart - 1 visualization code\n",
        "dependent_var =\"rented bike count\""
      ],
      "metadata": {
        "id": "7v_ESjsspbW7"
      },
      "execution_count": null,
      "outputs": []
    },
    {
      "cell_type": "code",
      "source": [
        "bike_df[dependent_var].describe()"
      ],
      "metadata": {
        "id": "5LbYYc1hQ2_S"
      },
      "execution_count": null,
      "outputs": []
    },
    {
      "cell_type": "markdown",
      "source": [
        "Now let's see the distribution of dependent variables 'rented bike count'\n"
      ],
      "metadata": {
        "id": "HXbTz3JVRMIe"
      }
    },
    {
      "cell_type": "code",
      "source": [
        "# distribution plot\n",
        "plt.figure(figsize=(9,7))\n",
        "sns.distplot(bike_df[dependent_var])\n",
        "plt.title(\"Distribution Plot\")\n",
        "plt.show()"
      ],
      "metadata": {
        "id": "HMBFdUJNRPRd"
      },
      "execution_count": null,
      "outputs": []
    },
    {
      "cell_type": "markdown",
      "source": [
        "##### 1. Why did you pick the specific chart?"
      ],
      "metadata": {
        "id": "K5QZ13OEpz2H"
      }
    },
    {
      "cell_type": "markdown",
      "source": [
        "* Use this chart in order to get the how the Depedent variables(rented bike count) are dsitributed along the Independent features.\n",
        "* Above we can see that Dependent variable is rightly skewed."
      ],
      "metadata": {
        "id": "XESiWehPqBRc"
      }
    },
    {
      "cell_type": "markdown",
      "source": [
        "##### 2. What is/are the insight(s) found from the chart?"
      ],
      "metadata": {
        "id": "lQ7QKXXCp7Bj"
      }
    },
    {
      "cell_type": "markdown",
      "source": [
        "Dependent variable i.e rented bike count is slightly skewed towards right side (positively skewed). So we will apply transformation and again look at the distribution.\n",
        "\n",
        "Below are some transformation technique to reduce skewness.\n",
        "\n",
        "<b>square-root for moderate skew:</b>\n",
        "sqrt(x) for positively skewed data,\n",
        "sqrt(max(x+1) - x) for negatively skewed data\n",
        "\n",
        "<b>log for greater skew:</b>\n",
        "log10(x) for positively skewed data,\n",
        "log10(max(x+1) - x) for negatively skewed data\n",
        "\n",
        "<b>inverse for severe skew:</b>\n",
        "1/x for positively skewed data\n",
        "1/(max(x+1) - x) for negatively skewed data"
      ],
      "metadata": {
        "id": "C_j1G7yiqdRP"
      }
    },
    {
      "cell_type": "markdown",
      "source": [
        "##### 3. Will the gained insights help creating a positive business impact? \n",
        "Are there any insights that lead to negative growth? Justify with specific reason."
      ],
      "metadata": {
        "id": "448CDAPjqfQr"
      }
    },
    {
      "cell_type": "markdown",
      "source": [
        "\n",
        "No, the above distribution drawn doesn't create a positive impact on business. Because, the graph is highly skewed that the data is not normally distributed. "
      ],
      "metadata": {
        "id": "3cspy4FjqxJW"
      }
    },
    {
      "cell_type": "code",
      "source": [
        "# Applying square-root transformation\n",
        "\n",
        "plt.figure(figsize=(9,8))\n",
        "sns.distplot(np.sqrt(bike_df[dependent_var]))\n",
        "plt.title(\"Distribution Plot - After Transformation\")\n",
        "plt.show()"
      ],
      "metadata": {
        "id": "izmjUZRXSt_Z"
      },
      "execution_count": null,
      "outputs": []
    },
    {
      "cell_type": "markdown",
      "source": [
        "It looks good and almost near to the normal distribution"
      ],
      "metadata": {
        "id": "nQJWpunfTa9S"
      }
    },
    {
      "cell_type": "markdown",
      "source": [
        "#### Chart - 2"
      ],
      "metadata": {
        "id": "KSlN3yHqYklG"
      }
    },
    {
      "cell_type": "code",
      "source": [
        "# Chart - 2 visualization code\n",
        "# Box Plot\n",
        "plt.figure(figsize=(5,6))\n",
        "sns.boxplot(y=bike_df[dependent_var])\n",
        "plt.title(\"Boxplot\")\n",
        "plt.show()"
      ],
      "metadata": {
        "id": "R4YgtaqtYklH"
      },
      "execution_count": null,
      "outputs": []
    },
    {
      "cell_type": "markdown",
      "source": [
        "##### 1. Why did you pick the specific chart?"
      ],
      "metadata": {
        "id": "t6dVpIINYklI"
      }
    },
    {
      "cell_type": "markdown",
      "source": [
        "* plot the distribution plot in order to see how the dependent variable is spread and we cam to conclusion that it is positively skewed.\n",
        "* From Boxplot we come to know about the outliers in the dependent variable"
      ],
      "metadata": {
        "id": "5aaW0BYyYklI"
      }
    },
    {
      "cell_type": "markdown",
      "source": [
        "##### 2. What is/are the insight(s) found from the chart?"
      ],
      "metadata": {
        "id": "ijmpgYnKYklI"
      }
    },
    {
      "cell_type": "markdown",
      "source": [
        "From boxplot, we can see the median value of rented bike count is near 500 and there are some outliers towards upper limit. After applying transformation there will be no outliers."
      ],
      "metadata": {
        "id": "PSx9atu2YklI"
      }
    },
    {
      "cell_type": "markdown",
      "source": [
        "##### 3. Will the gained insights help creating a positive business impact? \n",
        "Are there any insights that lead to negative growth? Justify with specific reason."
      ],
      "metadata": {
        "id": "-JiQyfWJYklI"
      }
    },
    {
      "cell_type": "markdown",
      "source": [
        "No, above boxplot doesn't create positive effect, as we can see there are more number of outliers in this variable \n",
        "The above Boxplot drawn gives the idea of outliers present in the dependent variable"
      ],
      "metadata": {
        "id": "BcBbebzrYklV"
      }
    },
    {
      "cell_type": "markdown",
      "source": [
        "## **Independent Variables**\n",
        "\n",
        "## **Numerical Variables**\n",
        "\n",
        "Now let's have a look at the numerical features and plot some graphs to understand them"
      ],
      "metadata": {
        "id": "y-w6w1-_UsKO"
      }
    },
    {
      "cell_type": "code",
      "source": [
        "# numerical variables\n",
        "\n",
        "numerical_var =list(bike_df.describe().columns[1:])\n",
        "numerical_var"
      ],
      "metadata": {
        "id": "LK5ss8yMUvLE"
      },
      "execution_count": null,
      "outputs": []
    },
    {
      "cell_type": "code",
      "source": [
        "bike_df[numerical_var].describe().T"
      ],
      "metadata": {
        "id": "JJEa6CNWU_NN"
      },
      "execution_count": null,
      "outputs": []
    },
    {
      "cell_type": "code",
      "source": [
        "# Unique count of numerical variables\n",
        "\n",
        "lst=[]\n",
        "for col in numerical_var:\n",
        "  lst.append(bike_df[col].nunique())\n",
        "\n",
        "unique_cnt_df=pd.DataFrame(index=numerical_var,columns=[\"unique_count\"])  \n",
        "unique_cnt_df[\"unique_count\"]=lst\n",
        "unique_cnt_df"
      ],
      "metadata": {
        "id": "wXPpA712XOV-"
      },
      "execution_count": null,
      "outputs": []
    },
    {
      "cell_type": "markdown",
      "source": [
        "#### Chart - 3"
      ],
      "metadata": {
        "id": "EM7whBJCYoAo"
      }
    },
    {
      "cell_type": "code",
      "source": [
        "# Chart - 3 visualization code\n",
        "for col in numerical_var:\n",
        "  features = bike_df[col]\n",
        "  sns.histplot(features)\n",
        "  plt.axvline(features.mean(),color='black',linestyle='dashed',linewidth=2)\n",
        "  plt.axvline(features.median(),color='red',linestyle='dashed',linewidth=2)\n",
        "  plt.title(col)\n",
        "  plt.show()"
      ],
      "metadata": {
        "id": "t6GMdE67YoAp"
      },
      "execution_count": null,
      "outputs": []
    },
    {
      "cell_type": "markdown",
      "source": [
        "##### 1. Why did you pick the specific chart?"
      ],
      "metadata": {
        "id": "fge-S5ZAYoAp"
      }
    },
    {
      "cell_type": "markdown",
      "source": [
        "* In above case, Histogram plot of all the variable is plotted.\n",
        "* Histogram plot shows frequency distributions."
      ],
      "metadata": {
        "id": "5dBItgRVYoAp"
      }
    },
    {
      "cell_type": "markdown",
      "source": [
        "##### 2. What is/are the insight(s) found from the chart?"
      ],
      "metadata": {
        "id": "85gYPyotYoAp"
      }
    },
    {
      "cell_type": "markdown",
      "source": [
        "* In the above case we get to know about how the numerical variables are distributed around Average line.\n",
        "* Histogram is showing the frequency distribution, but average line helps to know the mean of the data for each variable"
      ],
      "metadata": {
        "id": "4jstXR6OYoAp"
      }
    },
    {
      "cell_type": "markdown",
      "source": [
        "##### 3. Will the gained insights help creating a positive business impact? \n",
        "Are there any insights that lead to negative growth? Justify with specific reason."
      ],
      "metadata": {
        "id": "RoGjAbkUYoAp"
      }
    },
    {
      "cell_type": "markdown",
      "source": [
        "Yes, It will help creating a positive business impact"
      ],
      "metadata": {
        "id": "zfJ8IqMcYoAp"
      }
    },
    {
      "cell_type": "markdown",
      "source": [
        "#### Chart - 4"
      ],
      "metadata": {
        "id": "4Of9eVA-YrdM"
      }
    },
    {
      "cell_type": "code",
      "source": [
        "# Chart - 4 visualization code\n",
        "# boxplot for each numerical features\n",
        "\n",
        "for col in numerical_var:\n",
        "  fig=plt.figure()\n",
        "  ax=fig.gca()\n",
        "  bike_df.boxplot(col,ax=ax)\n",
        "  ax.set_title(col)\n",
        "plt.show()  "
      ],
      "metadata": {
        "id": "irlUoxc8YrdO"
      },
      "execution_count": null,
      "outputs": []
    },
    {
      "cell_type": "markdown",
      "source": [
        "Variables such as wind speed (m/s), solar radiation (mj/m2), rainfall(mm), snowfall (cm) has outliers as seen in the boxplot."
      ],
      "metadata": {
        "id": "tSEOMDpRYPth"
      }
    },
    {
      "cell_type": "markdown",
      "source": [
        "##### 1. Why did you pick the specific chart?"
      ],
      "metadata": {
        "id": "iky9q4vBYrdO"
      }
    },
    {
      "cell_type": "markdown",
      "source": [
        "Boxplot helps detect the outliers present in the dataset or in particular feature\n",
        "* Boxplot tells how the variable is afffected by outliers"
      ],
      "metadata": {
        "id": "aJRCwT6DYrdO"
      }
    },
    {
      "cell_type": "markdown",
      "source": [
        "##### 2. What is/are the insight(s) found from the chart?"
      ],
      "metadata": {
        "id": "F6T5p64dYrdO"
      }
    },
    {
      "cell_type": "markdown",
      "source": [
        "\n",
        "* From above plot we can conclude that the numerical variables **Windspeed, Solar radiation, rainfall and snowfall** are affected by outliers\n",
        "* whereas, the numerical vaiables **hour, temperature, humidity, visibility, dew-point, day and month** are not affected by outliers"
      ],
      "metadata": {
        "id": "Xx8WAJvtYrdO"
      }
    },
    {
      "cell_type": "markdown",
      "source": [
        "##### 3. Will the gained insights help creating a positive business impact? \n",
        "Are there any insights that lead to negative growth? Justify with specific reason."
      ],
      "metadata": {
        "id": "y-Ehk30pYrdP"
      }
    },
    {
      "cell_type": "markdown",
      "source": [
        "Yes, the gained insights helps creating positive business impact."
      ],
      "metadata": {
        "id": "jLNxxz7MYrdP"
      }
    },
    {
      "cell_type": "markdown",
      "source": [
        "## **Categorical Variables**"
      ],
      "metadata": {
        "id": "iDEwgiQ7YmV6"
      }
    },
    {
      "cell_type": "code",
      "source": [
        "categorical_var=list(bike_df.select_dtypes(include='object'))\n",
        "categorical_var"
      ],
      "metadata": {
        "id": "T2YoNEuPYpNP"
      },
      "execution_count": null,
      "outputs": []
    },
    {
      "cell_type": "code",
      "source": [
        "# Season Columns\n",
        "print(f\"Count of distinct catrgories in season variable :{bike_df['seasons'].nunique()}\")\n",
        "print(list(bike_df[\"seasons\"].unique()))"
      ],
      "metadata": {
        "id": "l8kBWJPibypS"
      },
      "execution_count": null,
      "outputs": []
    },
    {
      "cell_type": "code",
      "source": [
        "# Holiday Columns\n",
        "print(f\"Count of distinct categories in holiday variable:{bike_df['holiday'].nunique()}\")\n",
        "print(list(bike_df['holiday'].unique()))"
      ],
      "metadata": {
        "id": "0RUSGPGEbGvq"
      },
      "execution_count": null,
      "outputs": []
    },
    {
      "cell_type": "code",
      "source": [
        "# Functioning day columns \n",
        "print(f\"Count of distinct categories in functioning day variable:{bike_df['functioning day'].nunique()}\")\n",
        "print(list(bike_df[\"functioning day\"].unique()))"
      ],
      "metadata": {
        "id": "Dpl2eGSqcTmN"
      },
      "execution_count": null,
      "outputs": []
    },
    {
      "cell_type": "markdown",
      "source": [
        "#### Chart - 5"
      ],
      "metadata": {
        "id": "bamQiAODYuh1"
      }
    },
    {
      "cell_type": "code",
      "source": [
        "# Chart - 5 visualization code\n",
        "# Count plot for the categorical features\n",
        "\n",
        "for col in categorical_var:\n",
        "  plt.figure(figsize=(3,4))\n",
        "  sns.countplot(data=bike_df,x=col)\n",
        "  plt.title(col)\n",
        "  plt.show()"
      ],
      "metadata": {
        "id": "TIJwrbroYuh3"
      },
      "execution_count": null,
      "outputs": []
    },
    {
      "cell_type": "markdown",
      "source": [
        "##### 1. Why did you pick the specific chart?"
      ],
      "metadata": {
        "id": "QHF8YVU7Yuh3"
      }
    },
    {
      "cell_type": "markdown",
      "source": [
        "* Bar charts are useful to compare different categorical or discrete variables"
      ],
      "metadata": {
        "id": "dcxuIMRPYuh3"
      }
    },
    {
      "cell_type": "markdown",
      "source": [
        "##### 2. What is/are the insight(s) found from the chart?"
      ],
      "metadata": {
        "id": "GwzvFGzlYuh3"
      }
    },
    {
      "cell_type": "markdown",
      "source": [
        "* We can say that this columns will not have a greater impact.\n",
        "* There are very less count of Holiday and No functioning day. "
      ],
      "metadata": {
        "id": "uyqkiB8YYuh3"
      }
    },
    {
      "cell_type": "markdown",
      "source": [
        "##### 3. Will the gained insights help creating a positive business impact? \n",
        "Are there any insights that lead to negative growth? Justify with specific reason."
      ],
      "metadata": {
        "id": "qYpmQ266Yuh3"
      }
    },
    {
      "cell_type": "markdown",
      "source": [
        "Yes, the gained insights help creating a positive business impact"
      ],
      "metadata": {
        "id": "_WtzZ_hCYuh4"
      }
    },
    {
      "cell_type": "markdown",
      "source": [
        "## **Bivariate Analysis**\n",
        "\n",
        "## Numerical variabels vs rented bike count"
      ],
      "metadata": {
        "id": "R4OpcQUZegDd"
      }
    },
    {
      "cell_type": "markdown",
      "source": [
        "#### Chart - 6"
      ],
      "metadata": {
        "id": "OH-pJp9IphqM"
      }
    },
    {
      "cell_type": "code",
      "source": [
        "# Chart - 6 visualization code\n",
        "# Scatter-plot of numerical_ver vs rented bike count\n",
        "\n",
        "for col in numerical_var:\n",
        "  fig = plt.figure(figsize=(9,6))\n",
        "  ax=fig.gca()\n",
        "  feature = bike_df[col]\n",
        "  label = bike_df['rented bike count']\n",
        "  plt.scatter(x=feature,y=label)\n",
        "  plt.xlabel(col)\n",
        "  plt.ylabel('rented bike count')\n",
        "  ax.set_title('rented bike count vs ' + col)\n",
        "\n",
        "  z=np.polyfit(bike_df[col],bike_df['rented bike count'], 1)\n",
        "  y_hat = np.poly1d(z)(bike_df[col])\n",
        "\n",
        "  plt.plot(bike_df[col],y_hat,\"r--\",lw=1)\n",
        "\n",
        "plt.show()  "
      ],
      "metadata": {
        "id": "kuRf4wtuphqN"
      },
      "execution_count": null,
      "outputs": []
    },
    {
      "cell_type": "markdown",
      "source": [
        "##### 1. Why did you pick the specific chart?"
      ],
      "metadata": {
        "id": "bbFf2-_FphqN"
      }
    },
    {
      "cell_type": "markdown",
      "source": [
        "Scatter plots shows how much one variable is affected by another or the relationship between them with the help of dots in two dimension"
      ],
      "metadata": {
        "id": "loh7H2nzphqN"
      }
    },
    {
      "cell_type": "markdown",
      "source": [
        "##### 2. What is/are the insight(s) found from the chart?"
      ],
      "metadata": {
        "id": "_ouA3fa0phqN"
      }
    },
    {
      "cell_type": "markdown",
      "source": [
        "* From above we can conclude that the independent variable **rented bike count** is highly correlated with **temperature, humidity, windspeed, visibility, dew point temperature, rainfall and snowfall.** "
      ],
      "metadata": {
        "id": "VECbqPI7phqN"
      }
    },
    {
      "cell_type": "markdown",
      "source": [
        "##### 3. Will the gained insights help creating a positive business impact? \n",
        "Are there any insights that lead to negative growth? Justify with specific reason."
      ],
      "metadata": {
        "id": "Seke61FWphqN"
      }
    },
    {
      "cell_type": "markdown",
      "source": [
        "above highly correlated features are impacting negatively on business."
      ],
      "metadata": {
        "id": "DW4_bGpfphqN"
      }
    },
    {
      "cell_type": "markdown",
      "source": [
        "#### Chart - 7"
      ],
      "metadata": {
        "id": "PIIx-8_IphqN"
      }
    },
    {
      "cell_type": "code",
      "source": [
        "# Chart - 7 visualization code\n",
        "# Boxplot of numerical_ver vs rented bike count\n",
        "\n",
        "for col in numerical_var:\n",
        "  fig = plt.figure(figsize=(9,6))\n",
        "  ax=fig.gca()\n",
        "  bike_df.boxplot(column='rented bike count',by=col,ax=ax)\n",
        "  ax.set_title('Label by' + col)\n",
        "  ax.set_ylabel(\"rented bike couont\")\n",
        "plt.show()  "
      ],
      "metadata": {
        "id": "lqAIGUfyphqO"
      },
      "execution_count": null,
      "outputs": []
    },
    {
      "cell_type": "markdown",
      "source": [
        "#### Chart - 8"
      ],
      "metadata": {
        "id": "BZR9WyysphqO"
      }
    },
    {
      "cell_type": "code",
      "source": [
        "# Chart - 8 visualization code\n",
        "# Lineplot numerical_var vs rented bike count\n",
        "\n",
        "fig,ax=plt.subplots(3,2,figsize=(15,9))\n",
        "\n",
        "bike_df.groupby('temperature(°c)').mean()['rented bike count'].plot(ax=ax[0][0])\n",
        "\n",
        "bike_df.groupby('humidity(%)').mean()['rented bike count'].plot(ax=ax[0][1])\n",
        "\n",
        "bike_df.groupby('wind speed (m/s)').mean()['rented bike count'].plot(ax=ax[1][0])\n",
        "\n",
        "bike_df.groupby('solar radiation (mj/m2)').mean()['rented bike count'].plot(ax=ax[1][1])\n",
        "\n",
        "bike_df.groupby('rainfall(mm)').mean()['rented bike count'].plot(ax=ax[2][0])\n",
        "\n",
        "bike_df.groupby('snowfall (cm)').mean()['rented bike count'].plot(ax=ax[2][1])\n",
        "\n",
        "plt.show()"
      ],
      "metadata": {
        "id": "TdPTWpAVphqO"
      },
      "execution_count": null,
      "outputs": []
    },
    {
      "cell_type": "markdown",
      "source": [
        "##### 1. Why did you pick the specific chart?"
      ],
      "metadata": {
        "id": "jj7wYXLtphqO"
      }
    },
    {
      "cell_type": "markdown",
      "source": [
        "* we use line plot to see the trend of numerical variables with respect to the rented bike count.\n",
        "* means to see the count of rented bikes affected by the temperature, humidity, solar radiations, rainfaal, wind-speed and snowfall."
      ],
      "metadata": {
        "id": "Ob8u6rCTphqO"
      }
    },
    {
      "cell_type": "markdown",
      "source": [
        "##### 2. What is/are the insight(s) found from the chart?"
      ],
      "metadata": {
        "id": "eZrbJ2SmphqO"
      }
    },
    {
      "cell_type": "markdown",
      "source": [
        "* When the temperature is more the rental bike count is also high. \n",
        "* With increase in humidity the demand of rental bikes decreases. \n",
        "* Wind speed and solar radiation do not have much impact on the bike count. \n",
        "* When there is more than 10mm rainfall the demand of bike decreases but above 20mm of rain there is a huge peak. This could be the outlier or rainfall in the Summer.\n",
        "* With increase in snowfall there is a decrease in rented bike count."
      ],
      "metadata": {
        "id": "mZtgC_hjphqO"
      }
    },
    {
      "cell_type": "markdown",
      "source": [
        "##### 3. Will the gained insights help creating a positive business impact? \n",
        "Are there any insights that lead to negative growth? Justify with specific reason."
      ],
      "metadata": {
        "id": "rFu4xreNphqO"
      }
    },
    {
      "cell_type": "markdown",
      "source": [
        "Yes, the gained insights help creating a positive business impact."
      ],
      "metadata": {
        "id": "ey_0qi68phqO"
      }
    },
    {
      "cell_type": "markdown",
      "source": [
        "#### Chart - 9"
      ],
      "metadata": {
        "id": "YJ55k-q6phqO"
      }
    },
    {
      "cell_type": "code",
      "source": [
        "# Chart - 9 visualization code\n",
        "# Spread of numerical variables across hours\n",
        "\n",
        "fig, ax = plt.subplots(3,2,figsize=(15,9))\n",
        "\n",
        "sns.lineplot(x='hour', y='rented bike count', data=bike_df, color='Navy', ax=ax[0][0])\n",
        "\n",
        "sns.lineplot(x='hour', y='temperature(°c)', data=bike_df, color='Navy', ax=ax[0][1])\n",
        "\n",
        "sns.lineplot(x='hour', y='humidity(%)', data=bike_df, color='Navy', ax=ax[1][0])\n",
        "\n",
        "sns.lineplot(x='hour', y='wind speed (m/s)', data=bike_df, color='Navy', ax=ax[1][1])\n",
        "\n",
        "sns.lineplot(x='hour', y='visibility (10m)', data=bike_df, color='Navy', ax=ax[2][0])\n",
        "\n",
        "sns.lineplot(x='hour', y='solar radiation (mj/m2)', data=bike_df, color='Navy', ax=ax[2][1])\n",
        "\n",
        "plt.show()"
      ],
      "metadata": {
        "id": "B2aS4O1ophqO"
      },
      "execution_count": null,
      "outputs": []
    },
    {
      "cell_type": "markdown",
      "source": [
        "##### 1. Why did you pick the specific chart?"
      ],
      "metadata": {
        "id": "gCFgpxoyphqP"
      }
    },
    {
      "cell_type": "markdown",
      "source": [
        "Line plot shows the continuous trend of the data, how it is performing with respect to time \n"
      ],
      "metadata": {
        "id": "TVxDimi2phqP"
      }
    },
    {
      "cell_type": "markdown",
      "source": [
        "##### 2. What is/are the insight(s) found from the chart?"
      ],
      "metadata": {
        "id": "OVtJsKN_phqQ"
      }
    },
    {
      "cell_type": "markdown",
      "source": [
        "* At the beginning of the day the demand of rental bike increases with the highest peak in the evening and later decreasing.\n",
        "* The demand of rental bike is at peak at 8am and 6pm so we can say that demand is more during office opening and closing time.\n",
        "* Temperature, wind speed, solar radiation also increases and are at the peak in afternoon."
      ],
      "metadata": {
        "id": "ngGi97qjphqQ"
      }
    },
    {
      "cell_type": "markdown",
      "source": [
        "##### 3. Will the gained insights help creating a positive business impact? \n",
        "Are there any insights that lead to negative growth? Justify with specific reason."
      ],
      "metadata": {
        "id": "lssrdh5qphqQ"
      }
    },
    {
      "cell_type": "markdown",
      "source": [
        "* Yes, the gained insights help creating a positive business impact. \n",
        "* as the bike sharing system is based on hourly pattern, so this graph helps us understand how the dependent varible or demand of bikes frequetly changes with respect to hour"
      ],
      "metadata": {
        "id": "tBpY5ekJphqQ"
      }
    },
    {
      "cell_type": "markdown",
      "source": [
        "#### Chart - 10"
      ],
      "metadata": {
        "id": "U2RJ9gkRphqQ"
      }
    },
    {
      "cell_type": "code",
      "source": [
        "# Chart - 10 visualization code\n",
        "# Spread of numerical_var accorss months\n",
        "\n",
        "fig, ax = plt.subplots(3,2,figsize=(15,9))\n",
        "\n",
        "sns.lineplot(x='month', y='temperature(°c)', data=bike_df, color='#E56124', ax=ax[0][0])\n",
        "\n",
        "sns.lineplot(x='month', y='humidity(%)', data=bike_df, color='#E56124', ax=ax[0][1])\n",
        "\n",
        "sns.lineplot(x='month', y='wind speed (m/s)', data=bike_df, color='#E56124', ax=ax[1][0])\n",
        "\n",
        "sns.lineplot(x='month', y='visibility (10m)', data=bike_df, color='#E56124', ax=ax[1][1])\n",
        "\n",
        "sns.lineplot(x='month', y='rainfall(mm)', data=bike_df, color='#E56124', ax=ax[2][0])\n",
        "\n",
        "sns.lineplot(x='month', y='snowfall (cm)', data=bike_df, color='#E56124', ax=ax[2][1])\n",
        "\n",
        "plt.show()\n"
      ],
      "metadata": {
        "id": "GM7a4YP4phqQ"
      },
      "execution_count": null,
      "outputs": []
    },
    {
      "cell_type": "markdown",
      "source": [
        "##### 1. Why did you pick the specific chart?"
      ],
      "metadata": {
        "id": "1M8mcRywphqQ"
      }
    },
    {
      "cell_type": "markdown",
      "source": [
        "Line plot shows the continuous trend of the data, how it is performing with respect to time "
      ],
      "metadata": {
        "id": "8agQvks0phqQ"
      }
    },
    {
      "cell_type": "markdown",
      "source": [
        "##### 2. What is/are the insight(s) found from the chart?"
      ],
      "metadata": {
        "id": "tgIPom80phqQ"
      }
    },
    {
      "cell_type": "markdown",
      "source": [
        "Above all six plots showing the monthwise geographical trend for the 1 year \n",
        "* 1) temperature vs Month - Temperature is maximum in between 6 to 8 months\n",
        "* 2 humidity vs month - humidty is maximum where the rise in temperaute and case of rainfall\n",
        "* 3) windspeed vs months - windspeed is maximum in 1 to 4 month \n",
        "* 4) Visibility vc month - visibility is maximum in summer and minimum from 1 to 5 month\n",
        "* 5) rainfall vs month - rainfall is maximum in mansoon\n",
        "* 6) snowfall vs month - snaowfall is maximum in winter"
      ],
      "metadata": {
        "id": "Qp13pnNzphqQ"
      }
    },
    {
      "cell_type": "markdown",
      "source": [
        "##### 3. Will the gained insights help creating a positive business impact? \n",
        "Are there any insights that lead to negative growth? Justify with specific reason."
      ],
      "metadata": {
        "id": "JMzcOPDDphqR"
      }
    },
    {
      "cell_type": "markdown",
      "source": [
        "Yes, Above plot helps gained positive impact on business , because the bike sharing demand is also depends on some geographical conditions"
      ],
      "metadata": {
        "id": "R4Ka1PC2phqR"
      }
    },
    {
      "cell_type": "markdown",
      "source": [
        "#### Chart - 11"
      ],
      "metadata": {
        "id": "x-EpHcCOp1ci"
      }
    },
    {
      "cell_type": "code",
      "source": [
        "# Chart - 11 visualization code\n",
        "# Pie chart Categorical_var vs rented bike count\n",
        "\n",
        "fig, ax = plt.subplots(2,2,figsize=(12,9))\n",
        "\n",
        "bike_df.groupby('seasons').sum()['rented bike count'].plot.pie(autopct='%1.1f%%', shadow=True,ax= ax[0][0])\n",
        "ax[0][0].set_title(\"seasons\")\n",
        "\n",
        "bike_df.groupby('holiday').sum()['rented bike count'].plot.pie(autopct='%1.1f%%',ax= ax[0][1])\n",
        "ax[0][1].set_title(\"holiday\")\n",
        "\n",
        "bike_df.groupby('functioning day').sum()['rented bike count'].plot.pie(autopct='%1.1f%%', ax= ax[1][0])\n",
        "ax[1][0].set_title(\"functioning day\")\n",
        "\n",
        "bike_df.groupby('day_of_week').sum()['rented bike count'].plot.pie(autopct='%1.1f%%', ax= ax[1][1])\n",
        "ax[1][1].set_title(\"day of week\")\n",
        "\n",
        "plt.show()"
      ],
      "metadata": {
        "id": "mAQTIvtqp1cj"
      },
      "execution_count": null,
      "outputs": []
    },
    {
      "cell_type": "markdown",
      "source": [
        "##### 1. Why did you pick the specific chart?"
      ],
      "metadata": {
        "id": "X_VqEhTip1ck"
      }
    },
    {
      "cell_type": "markdown",
      "source": [
        "\n",
        "* Pie chart are shown as a percentage of the whole pie.\n",
        "* It shows the proportion."
      ],
      "metadata": {
        "id": "-vsMzt_np1ck"
      }
    },
    {
      "cell_type": "markdown",
      "source": [
        "##### 2. What is/are the insight(s) found from the chart?"
      ],
      "metadata": {
        "id": "8zGJKyg5p1ck"
      }
    },
    {
      "cell_type": "markdown",
      "source": [
        "* Above we can see Autumn, Spring and Summer this three seasons has the highest demand of rented bikes.\n",
        "* on working days there is approximately 97% demand of the rent bikes beccause we can say that people use this rented bike services in order to go to office, etc works, and we can predict that peoples generally on holdays prefer to stay at home or prefer there own vehicles."
      ],
      "metadata": {
        "id": "ZYdMsrqVp1ck"
      }
    },
    {
      "cell_type": "markdown",
      "source": [
        "##### 3. Will the gained insights help creating a positive business impact? \n",
        "Are there any insights that lead to negative growth? Justify with specific reason."
      ],
      "metadata": {
        "id": "PVzmfK_Ep1ck"
      }
    },
    {
      "cell_type": "markdown",
      "source": [
        "Yes, the gained insights help creating a positive business impact"
      ],
      "metadata": {
        "id": "druuKYZpp1ck"
      }
    },
    {
      "cell_type": "markdown",
      "source": [
        "#### Chart - 12"
      ],
      "metadata": {
        "id": "n3dbpmDWp1ck"
      }
    },
    {
      "cell_type": "code",
      "source": [
        "# Chart - 12 visualization code\n",
        "# Boxplot of categorical_var vs rented bike count\n",
        "\n",
        "for col in categorical_var:\n",
        "  fig = plt.figure(figsize=(8,6))\n",
        "  ax = fig.gca()\n",
        "  bike_df.boxplot(column= 'rented bike count', by = col, ax = ax)\n",
        "  ax.set_ylabel(\"rented bike count\")\n",
        "plt.show()"
      ],
      "metadata": {
        "id": "bwevp1tKp1ck"
      },
      "execution_count": null,
      "outputs": []
    },
    {
      "cell_type": "markdown",
      "source": [
        "##### 1. Why did you pick the specific chart?"
      ],
      "metadata": {
        "id": "ylSl6qgtp1ck"
      }
    },
    {
      "cell_type": "markdown",
      "source": [
        "* Use Boxplot because it helps detect outliers\n",
        "* determine where the majority of the points land at a glance"
      ],
      "metadata": {
        "id": "m2xqNkiQp1ck"
      }
    },
    {
      "cell_type": "markdown",
      "source": [
        "##### 2. What is/are the insight(s) found from the chart?"
      ],
      "metadata": {
        "id": "ZWILFDl5p1ck"
      }
    },
    {
      "cell_type": "markdown",
      "source": [
        "* In Summer the demand of rented bike is high because temperature and solar radiation is high in summer. \n",
        "* We have seen there are less holidays so obviously rented bike count is also less on holidays. \n",
        "* Almost no demand on non functioning day.\n",
        "* The demand of rental bikes slightly decreases on weekend days i.e saturday and sunday."
      ],
      "metadata": {
        "id": "x-lUsV2mp1ck"
      }
    },
    {
      "cell_type": "markdown",
      "source": [
        "##### 3. Will the gained insights help creating a positive business impact? \n",
        "Are there any insights that lead to negative growth? Justify with specific reason."
      ],
      "metadata": {
        "id": "M7G43BXep1ck"
      }
    },
    {
      "cell_type": "markdown",
      "source": [
        "\n",
        "yes, the gained insights help creating a positive business impact"
      ],
      "metadata": {
        "id": "5wwDJXsLp1cl"
      }
    },
    {
      "cell_type": "markdown",
      "source": [
        "#### Chart - 13"
      ],
      "metadata": {
        "id": "Ag9LCva-p1cl"
      }
    },
    {
      "cell_type": "code",
      "source": [
        "# Chart - 13 visualization code\n",
        "# spread of rented bike count across categorical_var\n",
        "fig, ax = plt.subplots(2,2,figsize=(12,9))\n",
        "\n",
        "sns.barplot(x= 'seasons', y= 'rented bike count', data= bike_df, ax= ax[0][0])\n",
        "\n",
        "sns.pointplot(x= 'month', y= 'rented bike count', hue= 'seasons',\n",
        "              data= bike_df, ax= ax[0][1])\n",
        "\n",
        "sns.lineplot(x= 'hour', y= 'rented bike count', hue= 'holiday',\n",
        "             ci=None, data= bike_df, ax= ax[1][0])\n",
        "\n",
        "sns.barplot(x= 'day_of_week', y= 'rented bike count', data= bike_df, ax= ax[1][1])\n",
        "\n",
        "plt.show()"
      ],
      "metadata": {
        "id": "EUfxeq9-p1cl"
      },
      "execution_count": null,
      "outputs": []
    },
    {
      "cell_type": "markdown",
      "source": [
        "##### 1. Why did you pick the specific chart?"
      ],
      "metadata": {
        "id": "E6MkPsBcp1cl"
      }
    },
    {
      "cell_type": "markdown",
      "source": [
        "The above plots shows how the dependent variable rented bike count is affecting with respect to Independet variables"
      ],
      "metadata": {
        "id": "V22bRsFWp1cl"
      }
    },
    {
      "cell_type": "markdown",
      "source": [
        "##### 2. What is/are the insight(s) found from the chart?"
      ],
      "metadata": {
        "id": "2cELzS2fp1cl"
      }
    },
    {
      "cell_type": "markdown",
      "source": [
        "* There is a huge demand for bike rents in summer season while the least bike rents occur in winter.\n",
        "* We can see there is a high demand for rented bike in the month of June, August and less demand in the month of December, January and February i.e winter season.\n",
        "* Non holidays have comparatively high demand for rented bikes as compared to holidays. \n",
        "* There is a high demand for rented bikes during office days and demand decreases slightly on Sunday."
      ],
      "metadata": {
        "id": "ozQPc2_Ip1cl"
      }
    },
    {
      "cell_type": "markdown",
      "source": [
        "##### 3. Will the gained insights help creating a positive business impact? \n",
        "Are there any insights that lead to negative growth? Justify with specific reason."
      ],
      "metadata": {
        "id": "3MPXvC8up1cl"
      }
    },
    {
      "cell_type": "markdown",
      "source": [
        "\n",
        "Yes, the gained insights help creating a positive business impact."
      ],
      "metadata": {
        "id": "GL8l1tdLp1cl"
      }
    },
    {
      "cell_type": "markdown",
      "source": [
        "# **Feature Selection**\n",
        "\n",
        "## **Correlation**"
      ],
      "metadata": {
        "id": "8fhva9rbJ285"
      }
    },
    {
      "cell_type": "markdown",
      "source": [
        "#### Chart - 14 - Correlation Heatmap"
      ],
      "metadata": {
        "id": "NC_X3p0fY2L0"
      }
    },
    {
      "cell_type": "code",
      "source": [
        "# Correlation Heatmap visualization code\n",
        "corr_df = bike_df.corr()\n",
        "plt.figure(figsize=(12,10))\n",
        "sns.heatmap(corr_df, annot =True, cmap =\"crest\" )\n",
        "plt.show()"
      ],
      "metadata": {
        "id": "xyC9zolEZNRQ"
      },
      "execution_count": null,
      "outputs": []
    },
    {
      "cell_type": "markdown",
      "source": [
        "##### 1. Why did you pick the specific chart?"
      ],
      "metadata": {
        "id": "UV0SzAkaZNRQ"
      }
    },
    {
      "cell_type": "markdown",
      "source": [
        "* Correlattion heatmap helps us know how the two variables are related to each-other."
      ],
      "metadata": {
        "id": "DVPuT8LYZNRQ"
      }
    },
    {
      "cell_type": "markdown",
      "source": [
        "##### 2. What is/are the insight(s) found from the chart?"
      ],
      "metadata": {
        "id": "YPEH6qLeZNRQ"
      }
    },
    {
      "cell_type": "markdown",
      "source": [
        "The most correlated features to the rented bike count are:\n",
        "* hour\n",
        "* temperature(°c)\n",
        "* dew point temperature(°c)\n",
        "* solar radiation (mj/m2)\n",
        "\n",
        "There is a high correlation between dew point temperature(°c) and temperature(°c)."
      ],
      "metadata": {
        "id": "bfSqtnDqZNRR"
      }
    },
    {
      "cell_type": "markdown",
      "source": [
        "##### 3. Will the gained insights help creating a positive business impact? \n",
        "Are there any insights that lead to negative growth? Justify with specific reason.\n"
      ],
      "metadata": {
        "id": "7eD05Dm4KL1E"
      }
    },
    {
      "cell_type": "markdown",
      "source": [
        "above correlation heatmap insights lead to negative growth because the variables like hour, temperature, dew point temperature and solar radiations are highly corelated, keeping them will negatively impact the predictions as well as business."
      ],
      "metadata": {
        "id": "TkiiWQWKKIo0"
      }
    },
    {
      "cell_type": "markdown",
      "source": [
        "# **Detecting Multicollinearity using VIF**\n"
      ],
      "metadata": {
        "id": "yr5sCatzKQyX"
      }
    },
    {
      "cell_type": "code",
      "source": [
        "# Multicollinearity\n",
        "from statsmodels.stats.outliers_influence import variance_inflation_factor\n",
        "\n",
        "def calc_vif(X):\n",
        "\n",
        "    # Calculating VIF\n",
        "    vif = pd.DataFrame()\n",
        "    vif[\"variables\"] = X.columns\n",
        "    vif[\"VIF\"] = [variance_inflation_factor(X.values, i) for i in range(X.shape[1])]\n",
        "\n",
        "    return(vif)"
      ],
      "metadata": {
        "id": "NNA5pUZzKVC1"
      },
      "execution_count": null,
      "outputs": []
    },
    {
      "cell_type": "code",
      "source": [
        "calc_vif(bike_df[[i for i in numerical_var]])"
      ],
      "metadata": {
        "id": "Lcc1CYyUKXXG"
      },
      "execution_count": null,
      "outputs": []
    },
    {
      "cell_type": "markdown",
      "source": [
        "##### 1. Why did you pick the specific chart?"
      ],
      "metadata": {
        "id": "EXh0U9oCveiU"
      }
    },
    {
      "cell_type": "markdown",
      "source": [
        "* VIF starts at 1 and has no upper limit\n",
        "* VIF = 1, no correlation between the independent variable and the other variables\n",
        "* VIF exceeding 5 or 10 indicates high multicollinearity between this independent variable and the others"
      ],
      "metadata": {
        "id": "eMmPjTByveiU"
      }
    },
    {
      "cell_type": "markdown",
      "source": [
        "##### 2. What is/are the insight(s) found from the chart?"
      ],
      "metadata": {
        "id": "22aHeOlLveiV"
      }
    },
    {
      "cell_type": "markdown",
      "source": [
        "* We can see here that 'dew point temperature(°c)', 'temperature(°c)' have a high VIF value, meaning they can be predicted by other independent variables in the dataset. These two variables are highly correlated.\n",
        "\n",
        "* Dropping one of the correlated features will help in bringing down the multicollinearity between correlated features."
      ],
      "metadata": {
        "id": "uPQ8RGwHveiV"
      }
    },
    {
      "cell_type": "markdown",
      "source": [
        "##### 3. Will the gained insights help creating a positive business impact? \n",
        "Are there any insights that lead to negative growth? Justify with specific reason."
      ],
      "metadata": {
        "id": "movpJ8loKq9f"
      }
    },
    {
      "cell_type": "markdown",
      "source": [
        "Yes, the gained insights help creating a positive business impact."
      ],
      "metadata": {
        "id": "YmA7fewoKunK"
      }
    },
    {
      "cell_type": "code",
      "source": [
        "# droping 'dew point temperature(°c)', 'day', 'month'\n",
        "\n",
        "calc_vif(bike_df[[ i for i in numerical_var if i not in ['dew point temperature(°c)', 'day', 'month']]])"
      ],
      "metadata": {
        "id": "LA0kbowxKxvp"
      },
      "execution_count": null,
      "outputs": []
    },
    {
      "cell_type": "markdown",
      "source": [
        "* After droping 'dew point temperature(°c)', 'day' and 'month', VIF values for all features have decreased less than 5 that is good to build regression model."
      ],
      "metadata": {
        "id": "jC6Nic2KK090"
      }
    },
    {
      "cell_type": "code",
      "source": [
        "# droping 'dew point temperature(°c)', 'day', 'month' from original dataset\n",
        "data= bike_df.drop(['dew point temperature(°c)', 'day', 'month'], axis=1)"
      ],
      "metadata": {
        "id": "_T2We6AKK3cv"
      },
      "execution_count": null,
      "outputs": []
    },
    {
      "cell_type": "code",
      "source": [
        "# Correlation Heatmap after reducing the multicollinearity\n",
        "plt.figure(figsize=(12,8))\n",
        "sns.heatmap(data.corr(), annot = True, cmap = 'coolwarm')\n",
        "plt.show()"
      ],
      "metadata": {
        "id": "-L1V4bzIK5D5"
      },
      "execution_count": null,
      "outputs": []
    },
    {
      "cell_type": "markdown",
      "source": [
        "## ***6. Feature Engineering & Data Pre-processing***"
      ],
      "metadata": {
        "id": "yLjJCtPM0KBk"
      }
    },
    {
      "cell_type": "markdown",
      "source": [
        "### 1. Handling Missing Values"
      ],
      "metadata": {
        "id": "xiyOF9F70UgQ"
      }
    },
    {
      "cell_type": "code",
      "source": [
        "# Handling Missing Values & Missing Value Imputation\n",
        "data.isna().sum()"
      ],
      "metadata": {
        "id": "iRsAHk1K0fpS"
      },
      "execution_count": null,
      "outputs": []
    },
    {
      "cell_type": "markdown",
      "source": [
        "### 2. Categorical Encoding"
      ],
      "metadata": {
        "id": "89xtkJwZ18nB"
      }
    },
    {
      "cell_type": "code",
      "source": [
        "# creating column of weekend by replacing the days with 1 and 0\n",
        "data['weekend'] = data['day_of_week'].apply(lambda x : 1 if x == 'Sunday' or x == 'Saturday' else 0)\n",
        "data.drop('day_of_week', axis = 1, inplace= True)"
      ],
      "metadata": {
        "id": "21JmIYMG2hEo"
      },
      "execution_count": null,
      "outputs": []
    },
    {
      "cell_type": "code",
      "source": [
        "# Label Encoding\n",
        "from sklearn.preprocessing import LabelEncoder\n",
        "label_en = LabelEncoder()\n",
        "\n",
        "data[['seasons', 'holiday', 'functioning day']] = data[['seasons', 'holiday', 'functioning day']].apply(label_en.fit_transform)"
      ],
      "metadata": {
        "id": "vYIEazjIRy_m"
      },
      "execution_count": null,
      "outputs": []
    },
    {
      "cell_type": "markdown",
      "source": [
        "#### What all categorical encoding techniques have you used & why did you use those techniques?"
      ],
      "metadata": {
        "id": "67NQN5KX2AMe"
      }
    },
    {
      "cell_type": "markdown",
      "source": [
        "Above we pweformed label encoding in order to convert categorical variables into numericals which helps us makes easier for using various models "
      ],
      "metadata": {
        "id": "UDaue5h32n_G"
      }
    },
    {
      "cell_type": "code",
      "source": [
        "data.head()"
      ],
      "metadata": {
        "id": "1du9L-vXR6lI"
      },
      "execution_count": null,
      "outputs": []
    },
    {
      "cell_type": "markdown",
      "source": [
        "### 3. Feature Manipulation & Selection"
      ],
      "metadata": {
        "id": "-oLEiFgy-5Pf"
      }
    },
    {
      "cell_type": "markdown",
      "source": [
        "#### 1. Feature Manipulation\n",
        "\n",
        "dont't need to manipulate features because in VIF I have already drop the feature with high multicollinearity and also created some new features while Data Exploration.\n"
      ],
      "metadata": {
        "id": "C74aWNz2AliB"
      }
    },
    {
      "cell_type": "markdown",
      "source": [
        "### 4. Data Transformation"
      ],
      "metadata": {
        "id": "TNVZ9zx19K6k"
      }
    },
    {
      "cell_type": "markdown",
      "source": [
        "#### Do you think that your data needs to be transformed? If yes, which transformation have you used. Explain Why?"
      ],
      "metadata": {
        "id": "nqoHp30x9hH9"
      }
    },
    {
      "cell_type": "markdown",
      "source": [
        "In Data exploration , i.e. during data cleaning wrangling this data is already transformed. So, again no need tranform the data.\n"
      ],
      "metadata": {
        "id": "d0kqaglaSbBT"
      }
    },
    {
      "cell_type": "markdown",
      "source": [
        "### 5. Data Scaling"
      ],
      "metadata": {
        "id": "rMDnDkt2B6du"
      }
    },
    {
      "cell_type": "markdown",
      "source": [
        "Data is scaled enough to make predictions."
      ],
      "metadata": {
        "id": "j03vxGbtSlrV"
      }
    },
    {
      "cell_type": "markdown",
      "source": [
        "### 6. Data Splitting\n",
        "* we first separate the entire data into X & y i.e. into independent and dependent variables."
      ],
      "metadata": {
        "id": "BhH2vgX9EjGr"
      }
    },
    {
      "cell_type": "code",
      "source": [
        "X = data.iloc[:,1:]\n",
        "y = np.sqrt(data.iloc[:,0])"
      ],
      "metadata": {
        "id": "0CTyd2UwEyNM"
      },
      "execution_count": null,
      "outputs": []
    },
    {
      "cell_type": "code",
      "source": [
        "X.head()"
      ],
      "metadata": {
        "id": "wOOTXZPlS_Zy"
      },
      "execution_count": null,
      "outputs": []
    },
    {
      "cell_type": "code",
      "source": [
        "y.head()"
      ],
      "metadata": {
        "id": "LJIZnLVfTJvt"
      },
      "execution_count": null,
      "outputs": []
    },
    {
      "cell_type": "code",
      "source": [
        "# train test split\n",
        "\n",
        "X_train,X_test,y_train,y_test=train_test_split(X,y,test_size=0.3,random_state=0)"
      ],
      "metadata": {
        "id": "_Ms9cvRmTM4f"
      },
      "execution_count": null,
      "outputs": []
    },
    {
      "cell_type": "markdown",
      "source": [
        "#### What data splitting ratio have you used and why? \n",
        "Answer - Above we split the data in to 70:30 ratio .i.e. 70% of the data used for training purpose and 30% of the data will be used for testing."
      ],
      "metadata": {
        "id": "l4BGi0_WTpMb"
      }
    },
    {
      "cell_type": "code",
      "source": [
        "print(X_train.shape,y_train.shape)"
      ],
      "metadata": {
        "id": "IEpRPYVtTvDV"
      },
      "execution_count": null,
      "outputs": []
    },
    {
      "cell_type": "code",
      "source": [
        "print(X_test.shape,y_test.shape)"
      ],
      "metadata": {
        "id": "bVmJSsuqUGpv"
      },
      "execution_count": null,
      "outputs": []
    },
    {
      "cell_type": "markdown",
      "source": [
        "### 7. Handling Imbalanced Dataset"
      ],
      "metadata": {
        "id": "P1XJ9OREExlT"
      }
    },
    {
      "cell_type": "markdown",
      "source": [
        "##### Do you think the dataset is imbalanced? Explain Why."
      ],
      "metadata": {
        "id": "VFOzZv6IFROw"
      }
    },
    {
      "cell_type": "markdown",
      "source": [
        "No, the dataset is not imbalanced."
      ],
      "metadata": {
        "id": "GeKDIv7pFgcC"
      }
    },
    {
      "cell_type": "markdown",
      "source": [
        "## ***7. ML Model Implementation***"
      ],
      "metadata": {
        "id": "VfCC591jGiD4"
      }
    },
    {
      "cell_type": "markdown",
      "source": [
        "### ML Model - 1\n",
        "\n",
        "# **Linear Regression**"
      ],
      "metadata": {
        "id": "OB4l2ZhMeS1U"
      }
    },
    {
      "cell_type": "code",
      "source": [
        "from sklearn.linear_model import LinearRegression"
      ],
      "metadata": {
        "id": "7ebyywQieS1U"
      },
      "execution_count": null,
      "outputs": []
    },
    {
      "cell_type": "code",
      "source": [
        "# create an instance of Linear Regression\n",
        "linear_reg = LinearRegression()\n",
        "\n",
        "# fitting the Linear regrssion model\n",
        "linear_reg.fit(X_train, y_train)\n"
      ],
      "metadata": {
        "id": "_2L2MJTXGufu"
      },
      "execution_count": null,
      "outputs": []
    },
    {
      "cell_type": "code",
      "source": [
        "# model score\n",
        "linear_reg.score(X_train,y_train)"
      ],
      "metadata": {
        "id": "S2Zan7XjqlWc"
      },
      "execution_count": null,
      "outputs": []
    },
    {
      "cell_type": "code",
      "source": [
        "linear_reg.coef_"
      ],
      "metadata": {
        "id": "eZ6MeTn7q4Kb"
      },
      "execution_count": null,
      "outputs": []
    },
    {
      "cell_type": "code",
      "source": [
        "linear_reg.intercept_"
      ],
      "metadata": {
        "id": "WwNdacIkrVqd"
      },
      "execution_count": null,
      "outputs": []
    },
    {
      "cell_type": "code",
      "source": [
        "# Prediction on train and test data\n",
        "\n",
        "train_pred_lr=linear_reg.predict(X_train)\n",
        "test_pred_lr=linear_reg.predict(X_test)"
      ],
      "metadata": {
        "id": "4WN4UqdircWa"
      },
      "execution_count": null,
      "outputs": []
    },
    {
      "cell_type": "markdown",
      "source": [
        "## **Evaluation Matrices**"
      ],
      "metadata": {
        "id": "0zGU2I-ssI0V"
      }
    },
    {
      "cell_type": "markdown",
      "source": [
        "### ***Create the function for all the possible evaluation metrics***"
      ],
      "metadata": {
        "id": "FXmL-WgPsM5I"
      }
    },
    {
      "cell_type": "code",
      "source": [
        "# Create train and test result dictionaries\n",
        "train_result = {}\n",
        "test_result = {}\n",
        "\n",
        "def evaluation_metrics(y_test, y_pred, model=None, train=True):\n",
        "\n",
        "   ''' takes actual target values and estimated target values as input\n",
        "      and returns evaluation metrics as output '''\n",
        "\n",
        "   MSE = mean_squared_error(y_test, y_pred)\n",
        "   print(\"MSE :\", MSE)\n",
        "   RMSE = np.sqrt(MSE)\n",
        "   print(\"RMSE :\", RMSE)\n",
        "   MAE = mean_absolute_error(y_test, y_pred)\n",
        "   print(\"MAE :\", MAE)\n",
        "   R2_score = r2_score(y_test, y_pred)\n",
        "   print(\"R2_score :\", R2_score)\n",
        "   Adj_r2_score = 1-(1-r2_score(y_test, y_pred))*((X_test.shape[0]-1)/(X_test.shape[0]-X_test.shape[1]-1))\n",
        "   print(\"Adjusted R2_score :\", Adj_r2_score)\n",
        "   \n",
        "   # appending result into dictionary\n",
        "\n",
        "   if train:\n",
        "     train_result[model] = [MSE,RMSE,MAE,R2_score,Adj_r2_score]\n",
        "   else:\n",
        "     test_result[model] =  [MSE,RMSE,MAE,R2_score,Adj_r2_score]\n"
      ],
      "metadata": {
        "id": "qkgvSCuAlRCl"
      },
      "execution_count": null,
      "outputs": []
    },
    {
      "cell_type": "markdown",
      "source": [
        "####  Explain the ML Model used and it's performance using Evaluation metric Score Chart."
      ],
      "metadata": {
        "id": "ArJBuiUVfxKd"
      }
    },
    {
      "cell_type": "code",
      "source": [
        "# train data Evaluation metrics\n",
        "evaluation_metrics(y_train, train_pred_lr, model ='Linear', train= True)"
      ],
      "metadata": {
        "id": "vlL85htQu9Fq"
      },
      "execution_count": null,
      "outputs": []
    },
    {
      "cell_type": "code",
      "source": [
        "# test data Evaluation metrics\n",
        "evaluation_metrics(y_test, test_pred_lr, model = 'Linear', train = False)"
      ],
      "metadata": {
        "id": "xhY2h_pKvBN-"
      },
      "execution_count": null,
      "outputs": []
    },
    {
      "cell_type": "code",
      "source": [
        "# line graph of actual and predictive values\n",
        "plt.figure(figsize=(15,8))\n",
        "plt.plot(test_pred_lr[:100])\n",
        "plt.plot(np.array(y_test)[:100])\n",
        "plt.legend([\"Predicted\",\"Actual\"])\n",
        "plt.show()"
      ],
      "metadata": {
        "id": "pp6SbeUkvFHI"
      },
      "execution_count": null,
      "outputs": []
    },
    {
      "cell_type": "code",
      "source": [
        "# Heteroskedasticity \n",
        "plt.figure(figsize=(10,6))\n",
        "plt.axhline(y =0, color = 'r', linestyle= '--')\n",
        "plt.scatter(test_pred_lr, y_test - test_pred_lr)\n",
        "plt.xlabel('predicted bike count')\n",
        "plt.ylabel('residual');"
      ],
      "metadata": {
        "id": "Rq-b0U-2vIGU"
      },
      "execution_count": null,
      "outputs": []
    },
    {
      "cell_type": "markdown",
      "source": [
        "### ML Model - 2\n",
        "\n",
        "# **Lasso Regression**\n",
        "\n",
        "#### Cross- Validation & Hyperparameter Tuning"
      ],
      "metadata": {
        "id": "dJ2tPlVmpsJ0"
      }
    },
    {
      "cell_type": "code",
      "source": [
        "from sklearn.linear_model import Lasso\n",
        "lasso=Lasso()\n",
        "\n",
        "# Cross-Validation\n",
        "parameter={'alpha':[1e-15,1e-10,1e-8,1e-5,1e-4,1e-3,1e-2,1e-1,1,5,10,20,30,40,45,50,55,60,100]}\n",
        "lasso_reg=GridSearchCV(lasso,parameter,cv=5)\n",
        "lasso_reg.fit(X_train, y_train)"
      ],
      "metadata": {
        "id": "Xa5rXNix6ddv"
      },
      "execution_count": null,
      "outputs": []
    },
    {
      "cell_type": "code",
      "source": [
        "print(\" The best fit alpha value is found to be :\", lasso_reg.best_params_)"
      ],
      "metadata": {
        "id": "j5sCmNGY-zQ_"
      },
      "execution_count": null,
      "outputs": []
    },
    {
      "cell_type": "code",
      "source": [
        "# Prdiction on train and test datasets\n",
        "\n",
        "train_pred_lasso=lasso_reg.predict(X_train)\n",
        "test_pred_lasso=lasso_reg.predict(X_test)"
      ],
      "metadata": {
        "id": "h5WxxdM1-_gG"
      },
      "execution_count": null,
      "outputs": []
    },
    {
      "cell_type": "markdown",
      "source": [
        "## **Evaluation Metrics for Lasso Regression**\n",
        "\n",
        "####  Explain the ML Model used and it's performance using Evaluation metric Score Chart."
      ],
      "metadata": {
        "id": "JWYfwnehpsJ1"
      }
    },
    {
      "cell_type": "code",
      "source": [
        "# Train data Evaluation Metrics\n",
        "evaluation_metrics(y_train,train_pred_lasso,model='Lasso',train=True)"
      ],
      "metadata": {
        "id": "yEl-hgQWpsJ1"
      },
      "execution_count": null,
      "outputs": []
    },
    {
      "cell_type": "code",
      "source": [
        "# Test data Evaluation Metrics\n",
        "evaluation_metrics(y_test,test_pred_lasso,model='Lasso',train=False)"
      ],
      "metadata": {
        "id": "vqgghNUNAIPf"
      },
      "execution_count": null,
      "outputs": []
    },
    {
      "cell_type": "code",
      "source": [
        "# line graph of actual and predictive values for Lasso Regression\n",
        "\n",
        "plt.figure(figsize=(15,8))\n",
        "plt.plot(test_pred_lasso[:100])\n",
        "plt.plot(np.array(y_test)[:100])\n",
        "plt.legend([\"Predicted\",\"Actual\"])\n",
        "plt.show()"
      ],
      "metadata": {
        "id": "Tw3RgemTBNFy"
      },
      "execution_count": null,
      "outputs": []
    },
    {
      "cell_type": "code",
      "source": [
        "# Heteroskedasticity\n",
        "plt.figure(figsize=(10,6))\n",
        "plt.axhline(y=0,color='r',linestyle='--')\n",
        "plt.scatter(test_pred_lasso,y_test - test_pred_lasso)\n",
        "plt.xlabel('predicted bike count')\n",
        "plt.ylabel('residual');"
      ],
      "metadata": {
        "id": "NyiHOdawB4IO"
      },
      "execution_count": null,
      "outputs": []
    },
    {
      "cell_type": "markdown",
      "source": [
        "### ML Model - 3\n",
        "\n",
        "## **Ridge Regression**\n",
        "\n",
        "#### Cross- Validation & Hyperparameter Tuning\n"
      ],
      "metadata": {
        "id": "Fze-IPXLpx6K"
      }
    },
    {
      "cell_type": "code",
      "source": [
        "from sklearn.linear_model import Ridge\n",
        "ridge = Ridge()\n",
        "\n",
        "# Cross-Validation\n",
        "parameters = {'alpha': [1e-15,1e-10,1e-8,1e-5,1e-4,1e-3,1e-2,1e-1,1,5,10,20,30,40,45,50,55,60,100]}\n",
        "ridge_reg = GridSearchCV(ridge, parameters, cv=5)\n",
        "ridge_reg.fit(X_train, y_train)"
      ],
      "metadata": {
        "id": "5kfi5LcscUbp"
      },
      "execution_count": null,
      "outputs": []
    },
    {
      "cell_type": "code",
      "source": [
        "print(\" The best fit alpha value is found to be :\", ridge_reg.best_params_)"
      ],
      "metadata": {
        "id": "IeIH_urFZUKx"
      },
      "execution_count": null,
      "outputs": []
    },
    {
      "cell_type": "code",
      "source": [
        "# Prediction on train and test dataset\n",
        "\n",
        "train_pred_ridge=ridge_reg.predict(X_train)\n",
        "test_pred_ridge=ridge_reg.predict(X_test)"
      ],
      "metadata": {
        "id": "76uJGkGzaGbV"
      },
      "execution_count": null,
      "outputs": []
    },
    {
      "cell_type": "markdown",
      "source": [
        "## **Evaluation Metrics for Ridge Regression**\n",
        "\n",
        "####  Explain the ML Model used and it's performance using Evaluation metric Score Chart."
      ],
      "metadata": {
        "id": "7AN1z2sKpx6M"
      }
    },
    {
      "cell_type": "code",
      "source": [
        "# Evaluation metrics for train dataset(train_pred_ridge)\n",
        "evaluation_metrics(y_train,train_pred_ridge,model='Ridge',train=True)"
      ],
      "metadata": {
        "id": "Vx0vSAwJc2J3"
      },
      "execution_count": null,
      "outputs": []
    },
    {
      "cell_type": "code",
      "source": [
        "# Evaluation metrics for test dataset(test_pred_ridge)\n",
        "evaluation_metrics(y_test,test_pred_ridge,model='Ridge',train=False)"
      ],
      "metadata": {
        "id": "Nam6diMtdQUb"
      },
      "execution_count": null,
      "outputs": []
    },
    {
      "cell_type": "code",
      "source": [
        "# line graph of actual and predicted values\n",
        "plt.figure(figsize=(12,6))\n",
        "plt.plot(test_pred_ridge[:100])\n",
        "plt.plot(np.array(y_test)[:100])\n",
        "plt.legend([\"Predicted\",\"Actual\"])\n",
        "plt.show()"
      ],
      "metadata": {
        "id": "c-c871qTdq-b"
      },
      "execution_count": null,
      "outputs": []
    },
    {
      "cell_type": "code",
      "source": [
        "# Heteroskedasticity\n",
        "plt.figure(figsize=(12,6))\n",
        "plt.axhline(y = 0, color = 'r', linestyle = '--')\n",
        "plt.scatter(test_pred_ridge, y_test- test_pred_ridge)\n",
        "plt.xlabel('predicted bike count')\n",
        "plt.ylabel('residuals');"
      ],
      "metadata": {
        "id": "t6-9PRzPdvoh"
      },
      "execution_count": null,
      "outputs": []
    },
    {
      "cell_type": "markdown",
      "source": [
        "### ***ML Model - 4***\n",
        "\n",
        "## **Elastic Net Regression**\n",
        "\n",
        "#### Cross- Validation & Hyperparameter Tuning"
      ],
      "metadata": {
        "id": "vRL8G0j4gCFV"
      }
    },
    {
      "cell_type": "code",
      "source": [
        "from sklearn.linear_model import ElasticNet\n",
        "elasticnet_reg = ElasticNet()\n",
        "\n",
        "# parameters \n",
        "en_params = {'alpha': [1e-15,1e-10,1e-5,1e-3,1e-2,1e-1,1,5,10,20,30,40,50,100],\n",
        "             'l1_ratio' : [0.1,0.2,0.3,0.4,0.5]}\n",
        "\n",
        "en_grid = GridSearchCV(elasticnet_reg, en_params, cv= 5)\n",
        "en_grid.fit(X_train,y_train)"
      ],
      "metadata": {
        "id": "7ei4_ggkgEmn"
      },
      "execution_count": null,
      "outputs": []
    },
    {
      "cell_type": "code",
      "source": [
        "print(\" The best fit alpha value is found to be :\", en_grid.best_params_)"
      ],
      "metadata": {
        "id": "jBq5UNnIgJ7R"
      },
      "execution_count": null,
      "outputs": []
    },
    {
      "cell_type": "code",
      "source": [
        "# prediction on train and teest dataset\n",
        "train_pred_en = en_grid.predict(X_train)\n",
        "test_pred_en = en_grid.predict(X_test)"
      ],
      "metadata": {
        "id": "iejqk9oZgZUH"
      },
      "execution_count": null,
      "outputs": []
    },
    {
      "cell_type": "markdown",
      "source": [
        "## **Evaluation Metrics for Elastic Net Regression**\n",
        "\n",
        "#### Explaining the ML Model used and it's performance using Evaluation metric Score Chart."
      ],
      "metadata": {
        "id": "moTTwqyCgcZk"
      }
    },
    {
      "cell_type": "code",
      "source": [
        "# Train dataset evaluation metrics for \n",
        "evaluation_metrics(y_train, train_pred_en, model='ElasticNet', train=True)"
      ],
      "metadata": {
        "id": "tPDLIH4VgfIy"
      },
      "execution_count": null,
      "outputs": []
    },
    {
      "cell_type": "code",
      "source": [
        "# Test dataset evaluation metrics for \n",
        "evaluation_metrics(y_test, test_pred_en, model='ElasticNet', train=False)"
      ],
      "metadata": {
        "id": "m_M-UlpSgh2J"
      },
      "execution_count": null,
      "outputs": []
    },
    {
      "cell_type": "code",
      "source": [
        "# line graph of actual and predicted values\n",
        "plt.figure(figsize=(12,6))\n",
        "plt.plot(test_pred_en[:100])\n",
        "plt.plot(np.array(y_test)[:100])\n",
        "plt.legend([\"Predicted\",\"Actual\"])\n",
        "plt.show()"
      ],
      "metadata": {
        "id": "yu5vjIMggkUK"
      },
      "execution_count": null,
      "outputs": []
    },
    {
      "cell_type": "code",
      "source": [
        "# Heteroskedasticity\n",
        "plt.figure(figsize=(12,6))\n",
        "plt.axhline(y = 0, color = 'r', linestyle = '--')\n",
        "plt.scatter(test_pred_en, y_test- test_pred_en)\n",
        "plt.xlabel('predicted bike count')\n",
        "plt.ylabel('residuals');"
      ],
      "metadata": {
        "id": "KiO4iQ6Ogmef"
      },
      "execution_count": null,
      "outputs": []
    },
    {
      "cell_type": "markdown",
      "source": [
        "## ***8.*** ***Future Work (Optional)***"
      ],
      "metadata": {
        "id": "EyNgTHvd2WFk"
      }
    },
    {
      "cell_type": "markdown",
      "source": [
        "### 1. Save the best performing ml model in a pickle file or joblib file format for deployment process.\n"
      ],
      "metadata": {
        "id": "KH5McJBi2d8v"
      }
    },
    {
      "cell_type": "code",
      "source": [
        "# Save the File"
      ],
      "metadata": {
        "id": "bQIANRl32f4J"
      },
      "execution_count": null,
      "outputs": []
    },
    {
      "cell_type": "markdown",
      "source": [
        "### 2. Again Load the saved model file and try to predict unseen data for a sanity check.\n"
      ],
      "metadata": {
        "id": "iW_Lq9qf2h6X"
      }
    },
    {
      "cell_type": "code",
      "source": [
        "# Load the File and predict unseen data."
      ],
      "metadata": {
        "id": "oEXk9ydD2nVC"
      },
      "execution_count": null,
      "outputs": []
    },
    {
      "cell_type": "markdown",
      "source": [
        "### ***Congrats! Your model is successfully created and ready for deployment on a live server for a real user interaction !!!***"
      ],
      "metadata": {
        "id": "-Kee-DAl2viO"
      }
    },
    {
      "cell_type": "markdown",
      "source": [
        "# **Conclusion**"
      ],
      "metadata": {
        "id": "gCX9965dhzqZ"
      }
    },
    {
      "cell_type": "markdown",
      "source": [
        "Write the conclusion here."
      ],
      "metadata": {
        "id": "Fjb1IsQkh3yE"
      }
    },
    {
      "cell_type": "markdown",
      "source": [
        "### ***Hurrah! You have successfully completed your Machine Learning Capstone Project !!!***"
      ],
      "metadata": {
        "id": "gIfDvo9L0UH2"
      }
    }
  ]
}